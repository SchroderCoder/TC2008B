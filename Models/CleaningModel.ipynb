{
 "cells": [
  {
   "cell_type": "code",
   "execution_count": 80,
   "metadata": {},
   "outputs": [],
   "source": [
    "# Importamos las clases que se requieren para manejar los agentes (Agent) y su entorno (Model).\n",
    "# Cada modelo puede contener múltiples agentes.\n",
    "from mesa import Agent, Model \n",
    "\n",
    "# Debido a que necesitamos que existe un solo agente por celda, elegimos ''SingleGrid''.\n",
    "from mesa.space import MultiGrid\n",
    "\n",
    "# Haremos uso de ''DataCollector'' para obtener información de cada paso de la simulación.\n",
    "from mesa.datacollection import DataCollector\n",
    "\n",
    "# matplotlib lo usaremos crear una animación de cada uno de los pasos del modelo.\n",
    "%matplotlib inline\n",
    "import matplotlib\n",
    "import matplotlib.pyplot as plt\n",
    "import matplotlib.animation as animation\n",
    "plt.rcParams[\"animation.html\"] = \"jshtml\"\n",
    "matplotlib.rcParams['animation.embed_limit'] = 2**128\n",
    "\n",
    "from mesa.time import SimultaneousActivation\n",
    "\n",
    "# Importamos los siguientes paquetes para el mejor manejo de valores numéricos.\n",
    "import numpy as np\n",
    "import pandas as pd\n",
    "\n",
    "# Definimos otros paquetes que vamos a usar para medir el tiempo de ejecución de nuestro algoritmo.\n",
    "import time\n",
    "import datetime\n",
    "\n",
    "import random"
   ]
  },
  {
   "cell_type": "code",
   "execution_count": 81,
   "metadata": {},
   "outputs": [],
   "source": [
    "class CleaningAgent(Agent):\n",
    "    def __init__(self, unique_id, model):\n",
    "        super().__init__(unique_id, model)\n",
    "        self.position = np.array((1,1), dtype = np.float64)\n",
    "        self.next_state = None\n",
    "\n",
    "    def step(self):\n",
    "        possible_steps = self.model.grid.get_neighborhood(\n",
    "            self.pos,\n",
    "            moore=True,\n",
    "            include_center=False,\n",
    "            radius = 1)\n",
    "            \n",
    "        empty_cells = [cell for cell in possible_steps if self.model.grid.is_cell_empty(cell)]\n",
    "                \n",
    "        current_cell = self.pos\n",
    "\n",
    "        if(self.model.grid[current_cell].dirty == 1 ):\n",
    "            self.clean\n",
    "            self.next_state = self.random.choice(empty_cells)\n",
    "            self.model.grid.move_agent(self, self.next_state)\n",
    "\n",
    "        else:\n",
    "            self.next_state = self.random.choice(empty_cells)\n",
    "            self.model.grid.move_agent(self, self.next_state)\n",
    "\n",
    "    def advance(self):\n",
    "        self.position = self.next_state\n",
    "\n",
    "    def clean():\n",
    "        #something \n",
    "    \n"
   ]
  },
  {
   "cell_type": "code",
   "execution_count": 82,
   "metadata": {},
   "outputs": [],
   "source": [
    "def get_grid(model):\n",
    "    grid_dtype = [('agent_id', int), ('dirty', int)]\n",
    "    grid = np.zeros((model.grid.width, model.grid.height), dtype=grid_dtype)\n",
    "\n",
    "    for (agent, (x, y)) in model.grid.coord_iter():\n",
    "        grid[x][y]['agent_id'] = agent.unique_id\n",
    "\n",
    "    for x in range(model.grid.width):\n",
    "        for y in range(model.grid.height):\n",
    "            grid[x][y]['dirty'] = model.grid[x][y].get('dirty', 0)\n",
    "\n",
    "    return grid"
   ]
  },
  {
   "cell_type": "code",
   "execution_count": 97,
   "metadata": {},
   "outputs": [],
   "source": [
    "class CleaningModel(Model):\n",
    "    def __init__ (self, width, height, num_agents, dirty_percent = 0.9):\n",
    "        self.num_agents = num_agents\n",
    "        self.grid = MultiGrid(width, height, torus = False)\n",
    "        self.schedule = SimultaneousActivation(self)\n",
    "        self.datacollector = DataCollector(model_reporters={\"Grid\": get_grid})\n",
    "        self.dirty_key = 'dirty'\n",
    "        \n",
    "        dirty_cells = int (width*height* dirty_percent)\n",
    "        \n",
    "\n",
    "        id = 0\n",
    "        for i in range(1, (num_agents + 1)):\n",
    "                agent = CleaningAgent(id, self)\n",
    "                self.grid.place_agent(agent, (1, 1))\n",
    "                self.schedule.add(agent)\n",
    "                id = id + 1\n",
    "\n",
    "        for i in range(1, dirty_cells+1):\n",
    "            x, y = random.randrange(self.grid.width), random.randrange(self.grid.height)\n",
    "            while not self.grid.is_cell_empty((x, y)):\n",
    "                # Regenerate random coordinates until an empty cell is found\n",
    "                x, y = random.randrange(self.grid.width), random.randrange(self.grid.height)\n",
    "                self.grid[x][y].set(self.dirty_key, 1)\n",
    "              \n",
    "\n",
    "def step(self):\n",
    "        \"\"\" Ejecuta un paso de la simulación.\"\"\"\n",
    "        self.datacollector.collect(self)\n",
    "        self.schedule.step()"
   ]
  },
  {
   "cell_type": "code",
   "execution_count": 98,
   "metadata": {},
   "outputs": [
    {
     "name": "stdout",
     "output_type": "stream",
     "text": [
      "Tiempo de ejecución: 0:00:00.034346\n"
     ]
    }
   ],
   "source": [
    "WIDTH = 100\n",
    "HEIGHT = 100\n",
    "DIRTY_PERCENTAGE = 0.9\n",
    "NUM_AGENTS = 2\n",
    "# Definimos el número máximo de generaciones a correr\n",
    "MAX_STEPS = 10\n",
    "\n",
    "# Registramos el tiempo de inicio y ejecutamos la simulación\n",
    "start_time = time.time()\n",
    "model = CleaningModel(WIDTH, HEIGHT, NUM_AGENTS, DIRTY_PERCENTAGE)\n",
    "for i in range(MAX_STEPS):\n",
    "    model.step()\n",
    "    \n",
    "# Imprimimos el tiempo que le tomó correr al modelo.\n",
    "print('Tiempo de ejecución:', str(datetime.timedelta(seconds=(time.time() - start_time))))"
   ]
  },
  {
   "cell_type": "code",
   "execution_count": null,
   "metadata": {},
   "outputs": [],
   "source": [
    "all_grid = model.datacollector.get_model_vars_dataframe()"
   ]
  },
  {
   "cell_type": "code",
   "execution_count": null,
   "metadata": {},
   "outputs": [
    {
     "ename": "IndexError",
     "evalue": "single positional indexer is out-of-bounds",
     "output_type": "error",
     "traceback": [
      "\u001b[1;31m---------------------------------------------------------------------------\u001b[0m",
      "\u001b[1;31mIndexError\u001b[0m                                Traceback (most recent call last)",
      "\u001b[1;32mc:\\Users\\Charlie\\OneDrive\\Documentos\\5to semestre\\Python\\TC2008B\\Models\\CleaningModel.ipynb Cell 7\u001b[0m line \u001b[0;36m7\n\u001b[0;32m      <a href='vscode-notebook-cell:/c%3A/Users/Charlie/OneDrive/Documentos/5to%20semestre/Python/TC2008B/Models/CleaningModel.ipynb#W6sZmlsZQ%3D%3D?line=4'>5</a>\u001b[0m axs\u001b[39m.\u001b[39mset_xticks([])\n\u001b[0;32m      <a href='vscode-notebook-cell:/c%3A/Users/Charlie/OneDrive/Documentos/5to%20semestre/Python/TC2008B/Models/CleaningModel.ipynb#W6sZmlsZQ%3D%3D?line=5'>6</a>\u001b[0m axs\u001b[39m.\u001b[39mset_yticks([])\n\u001b[1;32m----> <a href='vscode-notebook-cell:/c%3A/Users/Charlie/OneDrive/Documentos/5to%20semestre/Python/TC2008B/Models/CleaningModel.ipynb#W6sZmlsZQ%3D%3D?line=6'>7</a>\u001b[0m patch \u001b[39m=\u001b[39m plt\u001b[39m.\u001b[39mimshow(all_grid\u001b[39m.\u001b[39;49miloc[\u001b[39m0\u001b[39;49m][\u001b[39m0\u001b[39m], cmap\u001b[39m=\u001b[39mplt\u001b[39m.\u001b[39mcm\u001b[39m.\u001b[39mbinary)\n\u001b[0;32m      <a href='vscode-notebook-cell:/c%3A/Users/Charlie/OneDrive/Documentos/5to%20semestre/Python/TC2008B/Models/CleaningModel.ipynb#W6sZmlsZQ%3D%3D?line=8'>9</a>\u001b[0m \u001b[39mdef\u001b[39;00m \u001b[39manimate\u001b[39m(i):\n\u001b[0;32m     <a href='vscode-notebook-cell:/c%3A/Users/Charlie/OneDrive/Documentos/5to%20semestre/Python/TC2008B/Models/CleaningModel.ipynb#W6sZmlsZQ%3D%3D?line=9'>10</a>\u001b[0m     patch\u001b[39m.\u001b[39mset_data(all_grid\u001b[39m.\u001b[39miloc[i][\u001b[39m0\u001b[39m])\n",
      "File \u001b[1;32mc:\\Users\\Charlie\\AppData\\Local\\Programs\\Python\\Python312\\Lib\\site-packages\\pandas\\core\\indexing.py:1153\u001b[0m, in \u001b[0;36m_LocationIndexer.__getitem__\u001b[1;34m(self, key)\u001b[0m\n\u001b[0;32m   1150\u001b[0m axis \u001b[39m=\u001b[39m \u001b[39mself\u001b[39m\u001b[39m.\u001b[39maxis \u001b[39mor\u001b[39;00m \u001b[39m0\u001b[39m\n\u001b[0;32m   1152\u001b[0m maybe_callable \u001b[39m=\u001b[39m com\u001b[39m.\u001b[39mapply_if_callable(key, \u001b[39mself\u001b[39m\u001b[39m.\u001b[39mobj)\n\u001b[1;32m-> 1153\u001b[0m \u001b[39mreturn\u001b[39;00m \u001b[39mself\u001b[39;49m\u001b[39m.\u001b[39;49m_getitem_axis(maybe_callable, axis\u001b[39m=\u001b[39;49maxis)\n",
      "File \u001b[1;32mc:\\Users\\Charlie\\AppData\\Local\\Programs\\Python\\Python312\\Lib\\site-packages\\pandas\\core\\indexing.py:1714\u001b[0m, in \u001b[0;36m_iLocIndexer._getitem_axis\u001b[1;34m(self, key, axis)\u001b[0m\n\u001b[0;32m   1711\u001b[0m     \u001b[39mraise\u001b[39;00m \u001b[39mTypeError\u001b[39;00m(\u001b[39m\"\u001b[39m\u001b[39mCannot index by location index with a non-integer key\u001b[39m\u001b[39m\"\u001b[39m)\n\u001b[0;32m   1713\u001b[0m \u001b[39m# validate the location\u001b[39;00m\n\u001b[1;32m-> 1714\u001b[0m \u001b[39mself\u001b[39;49m\u001b[39m.\u001b[39;49m_validate_integer(key, axis)\n\u001b[0;32m   1716\u001b[0m \u001b[39mreturn\u001b[39;00m \u001b[39mself\u001b[39m\u001b[39m.\u001b[39mobj\u001b[39m.\u001b[39m_ixs(key, axis\u001b[39m=\u001b[39maxis)\n",
      "File \u001b[1;32mc:\\Users\\Charlie\\AppData\\Local\\Programs\\Python\\Python312\\Lib\\site-packages\\pandas\\core\\indexing.py:1647\u001b[0m, in \u001b[0;36m_iLocIndexer._validate_integer\u001b[1;34m(self, key, axis)\u001b[0m\n\u001b[0;32m   1645\u001b[0m len_axis \u001b[39m=\u001b[39m \u001b[39mlen\u001b[39m(\u001b[39mself\u001b[39m\u001b[39m.\u001b[39mobj\u001b[39m.\u001b[39m_get_axis(axis))\n\u001b[0;32m   1646\u001b[0m \u001b[39mif\u001b[39;00m key \u001b[39m>\u001b[39m\u001b[39m=\u001b[39m len_axis \u001b[39mor\u001b[39;00m key \u001b[39m<\u001b[39m \u001b[39m-\u001b[39mlen_axis:\n\u001b[1;32m-> 1647\u001b[0m     \u001b[39mraise\u001b[39;00m \u001b[39mIndexError\u001b[39;00m(\u001b[39m\"\u001b[39m\u001b[39msingle positional indexer is out-of-bounds\u001b[39m\u001b[39m\"\u001b[39m)\n",
      "\u001b[1;31mIndexError\u001b[0m: single positional indexer is out-of-bounds"
     ]
    },
    {
     "data": {
      "image/png": "[encoded data removed]",
      "text/plain": [
       "<Figure size 700x700 with 1 Axes>"
      ]
     },
     "metadata": {},
     "output_type": "display_data"
    }
   ],
   "source": [
    "# Graficamos la información usando `matplotlib`\n",
    "# %%capture\n",
    "\n",
    "fig, axs = plt.subplots(figsize=(7,7))\n",
    "axs.set_xticks([])\n",
    "axs.set_yticks([])\n",
    "patch = plt.imshow(all_grid.iloc[0][0], cmap=plt.cm.binary)\n",
    "\n",
    "def animate(i):\n",
    "    patch.set_data(all_grid.iloc[i][0])\n",
    "    \n",
    "anim = animation.FuncAnimation(fig, animate, frames=MAX_STEPS)"
   ]
  }
 ],
 "metadata": {
  "kernelspec": {
   "display_name": "Python 3",
   "language": "python",
   "name": "python3"
  },
  "language_info": {
   "codemirror_mode": {
    "name": "ipython",
    "version": 3
   },
   "file_extension": ".py",
   "mimetype": "text/x-python",
   "name": "python",
   "nbconvert_exporter": "python",
   "pygments_lexer": "ipython3",
   "version": "3.12.0"
  }
 },
 "nbformat": 4,
 "nbformat_minor": 2
}
