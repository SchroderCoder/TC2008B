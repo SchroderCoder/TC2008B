{
 "cells": [
  {
   "cell_type": "code",
   "execution_count": null,
   "metadata": {},
   "outputs": [],
   "source": [
    "# Importamos las clases que se requieren para manejar los agentes (Agent) y su entorno (Model).\n",
    "# Cada modelo puede contener múltiples agentes.\n",
    "from mesa import Agent, Model \n",
    "\n",
    "from mesa.space import MultiGrid\n",
    "\n",
    "#Importamos Random Activation ya que queremos que los agentes tomen decisiones 1 a la vez para evitar conflictos de choque\n",
    "from mesa.time import RandomActivation\n",
    "\n",
    "# Haremos uso de ''DataCollector'' para obtener información de cada paso de la simulación.\n",
    "from mesa.datacollection import DataCollector\n",
    "\n",
    "#Importamos random para obtener coordenadas al azar para setear nuestros dirty cells\n",
    "import random\n",
    "\n",
    "# matplotlib lo usaremos crear una animación de cada uno de los pasos del modelo.\n",
    "%matplotlib inline\n",
    "import matplotlib\n",
    "import matplotlib.pyplot as plt\n",
    "import matplotlib.animation as animation\n",
    "plt.rcParams[\"animation.html\"] = \"jshtml\"\n",
    "matplotlib.rcParams['animation.embed_limit'] = 2**128\n",
    "\n",
    "# Importamos los siguientes paquetes para el mejor manejo de valores numéricos.\n",
    "import numpy as np\n",
    "import pandas as pd\n",
    "\n",
    "# Definimos otros paquetes que vamos a usar para medir el tiempo de ejecución de nuestro algoritmo.\n",
    "import time\n",
    "import datetime"
   ]
  },
  {
   "cell_type": "code",
   "execution_count": null,
   "metadata": {},
   "outputs": [],
   "source": [
    "class TrafficAgent(Agent):\n",
    "    def _init_(self, unique_id, model):"
   ]
  },
  {
   "cell_type": "code",
   "execution_count": null,
   "metadata": {},
   "outputs": [],
   "source": [
    "#En get_grid obtenemos los contenidos de nuestra celda y seteamos valores numéricos\n",
    "#para después setear los colores en el grid\n",
    "\n",
    "def get_grid(model):\n",
    "    grid = np.zeros((model.grid.width, model.grid.height), dtype=int)\n",
    "    \n",
    "    for (content, (x, y)) in model.grid.coord_iter():\n",
    "        if content:\n",
    "            grid[x][y] = 1  # Representamos al agente con el numero 1 en el grid\n",
    "         \n",
    "        elif model.get_type(x, y) == 1: #Hacemos lo mismo con la cantidad de cajas solo que agregamos +1 ya que el agente ya ocupa un número\n",
    "            grid[x][y] = 2 \n",
    "\n",
    "        elif model.get_type(x, y) == 2: \n",
    "            grid[x][y] = 3  \n",
    "\n",
    "        elif model.get_type(x, y) == 3: \n",
    "            grid[x][y] = 4  \n",
    "\n",
    "        elif model.get_type(x, y) == 4: \n",
    "            grid[x][y] = 5  \n",
    "        \n",
    "        elif model.get_type(x, y) == 5: \n",
    "            grid[x][y] = 6  \n",
    "\n",
    "        else:\n",
    "            grid[x][y] = 0  #De otro modo se seteara cero para las celdas vacías\n",
    "    return grid"
   ]
  },
  {
   "cell_type": "code",
   "execution_count": null,
   "metadata": {},
   "outputs": [],
   "source": [
    "class TrafficModel(Model):\n",
    "    def _init_(self, width, height, box_quantity, num_agents):"
   ]
  },
  {
   "cell_type": "code",
   "execution_count": null,
   "metadata": {},
   "outputs": [],
   "source": [
    "WIDTH = 20\n",
    "HEIGHT = 20\n",
    "BOX_QUANTITY = 200  \n",
    "NUM_AGENTS = 5\n",
    "\n",
    "#comenzamos con el caluclo del tiempo\n",
    "start_time = time.time()\n",
    "\n",
    "model = OrderingModel(WIDTH, HEIGHT, BOX_QUANTITY, NUM_AGENTS)\n",
    "\n",
    "step_counter = 0\n",
    "\n",
    "#llamamos al modelo y contamos los steps hasta que acabe\n",
    "while model.running:\n",
    "    model.step()\n",
    "    step_counter += 1\n",
    "    \n",
    "print('Numero de pasos:', step_counter)\n",
    "print('Tiempo de ejecución:', str(datetime.timedelta(seconds=(time.time() - start_time))))"
   ]
  },
  {
   "cell_type": "code",
   "execution_count": null,
   "metadata": {},
   "outputs": [],
   "source": [
    "#Recolectamos los datos del grid \n",
    "all_grid = model.datacollector.get_model_vars_dataframe()"
   ]
  },
  {
   "cell_type": "code",
   "execution_count": null,
   "metadata": {},
   "outputs": [],
   "source": [
    "[11:59, 21/11/2023] Charlie: )\n",
    "[11:59, 21/11/2023] Charlie: fig, axs = plt.subplots(figsize=(7, 7))\n",
    "axs.set_xticks([])\n",
    "axs.set_yticks([])\n",
    "\n",
    "# Definimos los colores para la animación\n",
    "cmap = plt.cm.colors.ListedColormap(['white', 'green', 'lightblue', 'royalblue', 'mediumblue', 'darkblue', 'black'])\n",
    "\n",
    "#Seteamos los valores estbalecidos en el grid\n",
    "bounds = [0, 1, 2, 3, 4, 5, 6]\n",
    "norm = plt.cm.colors.BoundaryNorm(bounds, cmap.N)\n",
    "\n",
    "patch = plt.imshow(all_grid.iloc[0][0], cmap=cmap, vmin=0, vmax=6)\n",
    "\n",
    "def animate(i):\n",
    "    patch.set_data(all_grid.iloc[i][0])\n",
    "    patch.set_clim(vmin=0, vmax=6)  #establecemos los limites del color\n",
    "\n",
    "anim = animation.FuncAnimation(fig, animate, frames=step_counter)"
   ]
  }
 ],
 "metadata": {
  "language_info": {
   "name": "python"
  }
 },
 "nbformat": 4,
 "nbformat_minor": 2
}
